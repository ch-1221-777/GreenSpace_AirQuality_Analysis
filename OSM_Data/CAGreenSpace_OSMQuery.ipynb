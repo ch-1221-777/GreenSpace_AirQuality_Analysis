{
 "cells": [
  {
   "cell_type": "code",
   "execution_count": null,
   "id": "fe2151ff-583d-410e-b628-17ae4bd99456",
   "metadata": {},
   "outputs": [],
   "source": [
    "#QUERY GREEN SPACE DATA FROM OSM\n",
    "\n",
    "# Set the region for extraction (e.g., California)\n",
    "place_names_worst_counties_2020 = ['San Bernardino, California, USA', 'Riverside, California, USA', 'Los Angeles, California, USA', 'Tulare, California, USA', 'Kern, California, USA']\n",
    "place_names_best_counties_2020 = ['Lake, California, USA', 'Humboldt, California, USA', 'Shasta, California, USA', 'Sonoma, California, USA', 'Tuolumne, California, USA']\n",
    "\n",
    "\n",
    "# Query for green space data (parks, recreational areas, etc.)\n",
    "green_spaces_worst_counties_2020 = ox.features_from_place(place_names_worst_counties_2020, tags={'leisure': ['park', 'nature_reserve', 'garden'],\n",
    "                                                         'landuse': ['forest', 'grass'],\n",
    "                                                         'boundary': ['national_park', 'protected_area']})\n",
    "\n",
    "\n",
    "green_spaces_best_counties_2020 = ox.features_from_place(place_names_best_counties_2020, tags={'leisure': ['park', 'nature_reserve', 'garden'],\n",
    "                                                         'landuse': ['forest', 'grass'],\n",
    "                                                         'boundary': ['national_park', 'protected_area']})\n",
    "\n",
    "# NOTE: ox.features_from_place() returns a geopandas df which includes geometries (points,lines,polygons) and attribute data from OMS\n",
    "\n"
   ]
  },
  {
   "cell_type": "code",
   "execution_count": null,
   "id": "cedf0bf4-3631-48f6-bd27-0cf4b43dad96",
   "metadata": {},
   "outputs": [],
   "source": [
    "# Export to GeoJSON (Recommended for mapping)\n",
    "#green_spaces_worst_counties_2020.to_file(\"green_spaces_worst_counties_2020.geojson\", driver=\"GeoJSON\")\n",
    "#green_spaces_best_counties_2020.to_file(\"green_spaces_best_counties_2020.geojson\", driver=\"GeoJSON\")"
   ]
  },
  {
   "cell_type": "code",
   "execution_count": null,
   "id": "e3b24401-c8be-4de9-9b5f-f651a255a624",
   "metadata": {},
   "outputs": [],
   "source": [
    "#Load GeoJSON OSM data (exported in the cell above)\n",
    "#green_spaces_worst_counties_2020 = gpd.read_file(\"green_spaces_worst_counties_2020.geojson\")\n",
    "#green_spaces_best_counties_2020 = gpd.read_file(\"green_spaces_best_counties_2020.geojson\")"
   ]
  },
  {
   "cell_type": "code",
   "execution_count": null,
   "id": "d31ef76d-c3a3-4f81-a1bf-13e48122cba1",
   "metadata": {},
   "outputs": [],
   "source": [
    "# Query additional tags\n",
    "additional_tags = {\n",
    "     'leisure': ['golf_course', 'bird_hide', 'dog_park', 'pitch', 'recreation_ground'],\n",
    "     'landuse': ['meadow', 'vineyard', 'flowerbed', 'recreation_ground', 'village_green', 'greenery', 'allotment'],\n",
    "     'natural': ['fell', 'grassland', 'shrubbery', 'tundra', 'wood', 'heath', 'scrub'],\n",
    "     'place': ['square', 'village_green']}\n",
    "\n",
    "# Query the new data\n",
    "new_data_worst_counties = ox.features_from_place(place_names_worst_counties_2020, tags=additional_tags)\n",
    "\n",
    "new_data_best_counties = ox.features_from_place(place_names_best_counties_2020, tags=additional_tags)\n",
    "\n",
    "\n",
    "#Check coordinate reference system\n",
    "\n",
    "# print(new_data_worst_counties.crs)\n",
    "# print(new_data_best_counties.crs)\n",
    "\n",
    "# Ensure CRS matches your existing data\n",
    "#new_data = new_data.to_crs(green_spaces_worst_counties_2020.crs)\n",
    "\n",
    "# Combine the two datasets\n",
    "green_spaces_worst_counties_2020 = gpd.GeoDataFrame(pd.concat([green_spaces_worst_counties_2020, new_data_worst_counties], ignore_index=True))\n",
    "green_spaces_best_counties_2020 = gpd.GeoDataFrame(pd.concat([green_spaces_best_counties_2020, new_data_best_counties], ignore_index=True))\n",
    "\n",
    "# Drop duplicates (if geometries overlap)\n",
    "green_spaces_worst_counties_2020 = green_spaces_worst_counties_2020.drop_duplicates(subset='geometry')\n",
    "green_spaces_best_counties_2020 = green_spaces_best_counties_2020.drop_duplicates(subset='geometry')\n",
    "\n",
    "\n",
    "# Save the updated data\n",
    "\n",
    "green_spaces_worst_counties_2020.to_file(\"updated_green_spaces_worst_counties_2020.geojson\", driver=\"GeoJSON\")\n",
    "green_spaces_best_counties_2020.to_file(\"updated_green_spaces_best_counties_2020.geojson\", driver=\"GeoJSON\")"
   ]
  }
 ],
 "metadata": {
  "kernelspec": {
   "display_name": "Python 3 (ipykernel)",
   "language": "python",
   "name": "python3"
  },
  "language_info": {
   "codemirror_mode": {
    "name": "ipython",
    "version": 3
   },
   "file_extension": ".py",
   "mimetype": "text/x-python",
   "name": "python",
   "nbconvert_exporter": "python",
   "pygments_lexer": "ipython3",
   "version": "3.13.1"
  }
 },
 "nbformat": 4,
 "nbformat_minor": 5
}
